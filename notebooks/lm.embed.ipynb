{
 "cells": [
  {
   "cell_type": "markdown",
   "metadata": {},
   "source": [
    "# Linear model 1\n",
    "\n",
    "John Curtin"
   ],
   "id": "5d9f4e96-4c64-4a9e-aaa1-6ed15a046eb0"
  },
  {
   "cell_type": "code",
   "execution_count": null,
   "metadata": {},
   "outputs": [
    {
     "output_type": "stream",
     "name": "stderr",
     "text": [
      "── Attaching core tidyverse packages ──────────────────────── tidyverse 2.0.0 ──\n",
      "✔ dplyr     1.1.2     ✔ readr     2.1.4\n",
      "✔ forcats   1.0.0     ✔ stringr   1.5.0\n",
      "✔ ggplot2   3.4.2     ✔ tibble    3.2.1\n",
      "✔ lubridate 1.9.2     ✔ tidyr     1.3.0\n",
      "✔ purrr     1.0.1     \n",
      "── Conflicts ────────────────────────────────────────── tidyverse_conflicts() ──\n",
      "✖ dplyr::filter() masks stats::filter()\n",
      "✖ dplyr::lag()    masks stats::lag()\n",
      "ℹ Use the conflicted package (<http://conflicted.r-lib.org/>) to force all conflicts to become errors"
     ]
    }
   ],
   "source": [
    "library(tidyverse, quietly = TRUE)"
   ],
   "id": "e7ed16ac-530c-4686-b988-be46f5d93187"
  },
  {
   "cell_type": "markdown",
   "metadata": {},
   "source": [
    "Fit the lm to our data"
   ],
   "id": "b22573d8-e091-4c2a-ace5-e8e0b98720b6"
  },
  {
   "cell_type": "code",
   "execution_count": null,
   "metadata": {},
   "outputs": [
    {
     "output_type": "stream",
     "name": "stdout",
     "text": [
      "\n",
      "Call:\n",
      "lm(formula = dist ~ speed, data = cars)\n",
      "\n",
      "Residuals:\n",
      "    Min      1Q  Median      3Q     Max \n",
      "-29.069  -9.525  -2.272   9.215  43.201 \n",
      "\n",
      "Coefficients:\n",
      "            Estimate Std. Error t value Pr(>|t|)    \n",
      "(Intercept) -17.5791     6.7584  -2.601   0.0123 *  \n",
      "speed         3.9324     0.4155   9.464 1.49e-12 ***\n",
      "---\n",
      "Signif. codes:  0 '***' 0.001 '**' 0.01 '*' 0.05 '.' 0.1 ' ' 1\n",
      "\n",
      "Residual standard error: 15.38 on 48 degrees of freedom\n",
      "Multiple R-squared:  0.6511,    Adjusted R-squared:  0.6438 \n",
      "F-statistic: 89.57 on 1 and 48 DF,  p-value: 1.49e-12"
     ]
    },
    {
     "output_type": "stream",
     "name": "stdout",
     "text": [
      "# A tibble: 2 × 5\n",
      "  term        estimate std.error statistic  p.value\n",
      "  <chr>          <dbl>     <dbl>     <dbl>    <dbl>\n",
      "1 (Intercept)   -17.6      6.76      -2.60 1.23e- 2\n",
      "2 speed           3.93     0.416      9.46 1.49e-12"
     ]
    }
   ],
   "source": [
    "m <- lm (dist ~ speed, data = cars)\n",
    "summary(m)"
   ],
   "id": "24dcfca1-3e00-4452-9f88-81e59d93ff2a"
  },
  {
   "cell_type": "markdown",
   "metadata": {},
   "source": [
    "Save the model to load and use in manuscript results section. Consider what should be saved. We might save the model object because you can get everything you need from it. But better still might be to save the output you need (e.g., tibble of coefficients and test statistics). In this example, we save both for the lm as demonstrations.\n",
    "\n",
    "NOTES:\n",
    "\n",
    "-   If saving the model object, note that some models from tidymodels (e.g., keras, maybe xgboost) may need [special procedure](https://rstudio.github.io/bundle/reference/bundle_workflows.html) for saving."
   ],
   "id": "f5bb7c47-436f-4c85-af7c-845c2d1a54b9"
  },
  {
   "cell_type": "code",
   "execution_count": null,
   "metadata": {},
   "outputs": [],
   "source": [
    "# can save tidied tables of results as csv.  This is preferred method for saving tables and we believe that saving the tables is likely the best choice for later access to results in index.qmd\n",
    "coeff_table |> write_csv(here::here(\"objects\", \"coeff_table.csv\"))\n",
    "\n",
    "# There may be situations where you need access to the model itself in index.qmd.  If so, model objects should be saved with saveRDS()\n",
    "m |> saveRDS(here::here(\"objects\", \"lm.rds\"))"
   ],
   "id": "794c84b5-0741-44c1-b4dc-6dc60ad983b6"
  }
 ],
 "nbformat": 4,
 "nbformat_minor": 5,
 "metadata": {}
}
